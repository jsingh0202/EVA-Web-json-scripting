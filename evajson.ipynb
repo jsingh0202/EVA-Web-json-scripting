{
 "cells": [
  {
   "cell_type": "markdown",
   "metadata": {},
   "source": [
    "# Import data and clean"
   ]
  },
  {
   "cell_type": "code",
   "execution_count": 6,
   "metadata": {},
   "outputs": [],
   "source": [
    "import pandas as pd"
   ]
  },
  {
   "cell_type": "code",
   "execution_count": null,
   "metadata": {},
   "outputs": [],
   "source": [
    "# This data is retrieved via the 'download' option on the EVA site. Much easer to work with.\n",
    "df = pd.read_json('data/ProjectAnalysis.json')\n",
    "# drop first row\n",
    "df = df.iloc[1:]\n",
    "df\n"
   ]
  },
  {
   "cell_type": "markdown",
   "metadata": {},
   "source": [
    "# Filter out the summary and task eva items based on the 'isLeaf' attribute"
   ]
  },
  {
   "cell_type": "code",
   "execution_count": null,
   "metadata": {},
   "outputs": [],
   "source": [
    "dfSummary = df[df['isLeaf'] == \"False\"]\n",
    "dfTasks = df[df['isLeaf'] == \"True\"]\n",
    "\n",
    "dfTasks"
   ]
  },
  {
   "cell_type": "markdown",
   "metadata": {},
   "source": [
    "# Export as csv"
   ]
  },
  {
   "cell_type": "code",
   "execution_count": 19,
   "metadata": {},
   "outputs": [],
   "source": [
    "ids = pd.DataFrame(dfSummary)\n",
    "ids.to_csv('summaryTasks.csv', index = False)\n",
    "ids = pd.DataFrame(dfTasks)\n",
    "ids.to_csv('leafTasks.csv', index = False)"
   ]
  },
  {
   "cell_type": "code",
   "execution_count": null,
   "metadata": {},
   "outputs": [],
   "source": [
    "# Filter rows that are under the PCL task (04-05-07-01)\n",
    "dfTasksPCL = dfTasks[dfTasks['code'].str.startswith(\"04-05-07-01-03\", na=False)]\n",
    "dfTasksPCL"
   ]
  },
  {
   "cell_type": "code",
   "execution_count": 10,
   "metadata": {},
   "outputs": [],
   "source": [
    "dfExpanded = dfTasksPCL.loc[(ser:=dfTasksPCL[\"plannedValue\"].explode()).index].assign(values_1=ser)\n",
    "dfExpanded\n"
   ]
  }
 ],
 "metadata": {
  "kernelspec": {
   "display_name": "env",
   "language": "python",
   "name": "python3"
  },
  "language_info": {
   "codemirror_mode": {
    "name": "ipython",
    "version": 3
   },
   "file_extension": ".py",
   "mimetype": "text/x-python",
   "name": "python",
   "nbconvert_exporter": "python",
   "pygments_lexer": "ipython3",
   "version": "3.12.6"
  },
  "polyglot_notebook": {
   "kernelInfo": {
    "defaultKernelName": "csharp",
    "items": [
     {
      "aliases": [],
      "name": "csharp"
     }
    ]
   }
  }
 },
 "nbformat": 4,
 "nbformat_minor": 4
}
